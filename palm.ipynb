{
 "cells": [
  {
   "cell_type": "code",
   "execution_count": 5,
   "metadata": {},
   "outputs": [],
   "source": [
    "from langchain.llms import GooglePalm\n",
    "\n",
    "api_key = \" \" \n",
    "\n",
    "llm = GooglePalm(google_api_key=api_key, temperature=0.1)"
   ]
  },
  {
   "cell_type": "code",
   "execution_count": 6,
   "metadata": {},
   "outputs": [
    {
     "name": "stdout",
     "output_type": "stream",
     "text": [
      "**Oh, samosa, my love**\n",
      "**You are so delicious, so flaky**\n",
      "**With your filling of potatoes and peas**\n",
      "**I could eat you every day**\n"
     ]
    }
   ],
   "source": [
    "poem = llm(\"Write a 4 line poem of my love for samosa\")\n",
    "print(poem)"
   ]
  },
  {
   "cell_type": "code",
   "execution_count": 7,
   "metadata": {},
   "outputs": [],
   "source": [
    "from langchain.chains import RetrievalQA\n",
    "\n",
    "\n",
    "from langchain.embeddings import GooglePalmEmbeddings\n",
    "from langchain.llms import GooglePalm"
   ]
  },
  {
   "cell_type": "code",
   "execution_count": 12,
   "metadata": {},
   "outputs": [],
   "source": [
    "from langchain.document_loaders.csv_loader import CSVLoader\n",
    "\n",
    "loader = CSVLoader(file_path='Q&A_chatbot.csv', source_column=\"prompt\")\n",
    "\n",
    "# Store the loaded data in the 'data' variable\n",
    "data = loader.load()"
   ]
  },
  {
   "cell_type": "code",
   "execution_count": 37,
   "metadata": {},
   "outputs": [],
   "source": [
    "from langchain_community.embeddings import HuggingFaceHubEmbeddings\n",
    "embeddings = HuggingFaceHubEmbeddings()\n",
    "query_result = embeddings.embed_query(\"What services do you offer\")"
   ]
  },
  {
   "cell_type": "code",
   "execution_count": 38,
   "metadata": {},
   "outputs": [
    {
     "data": {
      "text/plain": [
       "768"
      ]
     },
     "execution_count": 38,
     "metadata": {},
     "output_type": "execute_result"
    }
   ],
   "source": [
    "len(query_result)"
   ]
  },
  {
   "cell_type": "code",
   "execution_count": 39,
   "metadata": {},
   "outputs": [
    {
     "data": {
      "text/plain": [
       "[0.05690343677997589,\n",
       " -0.01410953514277935,\n",
       " -0.026467522606253624,\n",
       " -0.004356516059488058,\n",
       " 0.017473848536610603]"
      ]
     },
     "execution_count": 39,
     "metadata": {},
     "output_type": "execute_result"
    }
   ],
   "source": [
    "query_result[:5]"
   ]
  },
  {
   "cell_type": "code",
   "execution_count": 40,
   "metadata": {},
   "outputs": [],
   "source": [
    "from langchain.vectorstores import FAISS\n",
    "\n",
    "# Create a FAISS instance for vector database from 'data'\n",
    "vectordb = FAISS.from_documents(documents=data,\n",
    "                                 embedding=embeddings)\n",
    "\n",
    "# Create a retriever for querying the vector database\n",
    "retriever = vectordb.as_retriever(score_threshold = 0.7)"
   ]
  },
  {
   "cell_type": "code",
   "execution_count": 41,
   "metadata": {},
   "outputs": [
    {
     "data": {
      "text/plain": [
       "[Document(page_content='prompt: What specific services does your marketing agency provide?\\nresponse: We are providing services in the domain of marketing specialized in social media marketing, digital strategy, content marketing, personal branding and video production.', metadata={'source': 'What specific services does your marketing agency provide?', 'row': 0}),\n",
       " Document(page_content='prompt: Which type of services do you offer in content marketing\\nresponse: We provide social media content, blog content that will align with your business goals.', metadata={'source': 'Which type of services do you offer in content marketing', 'row': 11}),\n",
       " Document(page_content='prompt: In content marketing which type of content service you are offering?\\nresponse: We provide social media content and website content service.', metadata={'source': 'In content marketing which type of content service you are offering?', 'row': 10}),\n",
       " Document(page_content='prompt: What types of content do you recommend for my business?\\nresponse: The content mix depends on your target audience and goals. It may include blog posts, articles, infographics, videos, podcasts, and more. We customize the content types to maximize engagement and resonate with your audience.', metadata={'source': 'What types of content do you recommend for my business?', 'row': 34})]"
      ]
     },
     "execution_count": 41,
     "metadata": {},
     "output_type": "execute_result"
    }
   ],
   "source": [
    "rdocs = retriever.get_relevant_documents(\"What kind of services do you offer?\")\n",
    "rdocs"
   ]
  },
  {
   "cell_type": "code",
   "execution_count": 42,
   "metadata": {},
   "outputs": [],
   "source": [
    "from langchain.prompts import PromptTemplate\n",
    "\n",
    "prompt_template = \"\"\"Given the following context and a question, generate an answer based on this context only.\n",
    "In the answer try to provide as much text as possible from \"response\" section in the source document context without making much changes.\n",
    "If the answer is not found in the context, kindly state \"I don't know.\" Don't try to make up an answer.\n",
    "\n",
    "CONTEXT: {context}\n",
    "\n",
    "QUESTION: {question}\"\"\"\n",
    "\n",
    "\n",
    "PROMPT = PromptTemplate(\n",
    "    template=prompt_template, input_variables=[\"context\", \"question\"]\n",
    ")\n",
    "chain_type_kwargs = {\"prompt\": PROMPT}\n",
    "\n",
    "\n",
    "from langchain.chains import RetrievalQA\n",
    "\n",
    "chain = RetrievalQA.from_chain_type(llm=llm,\n",
    "                            chain_type=\"stuff\",\n",
    "                            retriever=retriever,\n",
    "                            input_key=\"query\",\n",
    "                            return_source_documents=True,\n",
    "                            chain_type_kwargs=chain_type_kwargs)"
   ]
  },
  {
   "cell_type": "code",
   "execution_count": 43,
   "metadata": {},
   "outputs": [
    {
     "data": {
      "text/plain": [
       "{'query': 'What kind of sevices do you provide?',\n",
       " 'result': 'We are providing services in the domain of marketing specialized in social media marketing, digital strategy, content marketing, personal branding and video production.',\n",
       " 'source_documents': [Document(page_content='prompt: What specific services does your marketing agency provide?\\nresponse: We are providing services in the domain of marketing specialized in social media marketing, digital strategy, content marketing, personal branding and video production.', metadata={'source': 'What specific services does your marketing agency provide?', 'row': 0}),\n",
       "  Document(page_content='prompt: Which type of services do you offer in content marketing\\nresponse: We provide social media content, blog content that will align with your business goals.', metadata={'source': 'Which type of services do you offer in content marketing', 'row': 11}),\n",
       "  Document(page_content='prompt: In content marketing which type of content service you are offering?\\nresponse: We provide social media content and website content service.', metadata={'source': 'In content marketing which type of content service you are offering?', 'row': 10}),\n",
       "  Document(page_content='prompt: How do you ensure that the content aligns with our brand voice and values?\\nresponse: our customized content services will be strongly aligned with your business visiion, mission and core values', metadata={'source': 'How do you ensure that the content aligns with our brand voice and values?', 'row': 24})]}"
      ]
     },
     "execution_count": 43,
     "metadata": {},
     "output_type": "execute_result"
    }
   ],
   "source": [
    "chain('What kind of sevices do you provide?')"
   ]
  },
  {
   "cell_type": "code",
   "execution_count": 45,
   "metadata": {},
   "outputs": [
    {
     "data": {
      "text/plain": [
       "{'query': 'Do you provide social media marketing?',\n",
       " 'result': 'We are providing all type of social media services in customized way.',\n",
       " 'source_documents': [Document(page_content='prompt: Hi I want to inquire about your social media marketing service. can you provide overview of details?\\nresponse: We are providing all type of social media services in customized way.', metadata={'source': 'Hi I want to inquire about your social media marketing service. can you provide overview of details?', 'row': 6}),\n",
       "  Document(page_content=\"prompt: Can you share examples of successful social media campaigns you've managed for similar clients?\\nresponse: we are startup and we have launched our services in 2024 . We can ensure the quality work that will align for your business goals . This is where you can trust on us\", metadata={'source': \"Can you share examples of successful social media campaigns you've managed for similar clients?\", 'row': 3}),\n",
       "  Document(page_content='prompt: Which type of services do you offer in content marketing\\nresponse: We provide social media content, blog content that will align with your business goals.', metadata={'source': 'Which type of services do you offer in content marketing', 'row': 11}),\n",
       "  Document(page_content=\"prompt: Which social media platforms do you recommend for my business?\\nresponse: Our recommendation depends on your target audience and business goals. Popular platforms include Facebook, Instagram, Twitter, LinkedIn, and Pinterest. We'll tailor our strategy to the platforms that align with your objectives.\", metadata={'source': 'Which social media platforms do you recommend for my business?', 'row': 5})]}"
      ]
     },
     "execution_count": 45,
     "metadata": {},
     "output_type": "execute_result"
    }
   ],
   "source": [
    "chain('Do you provide social media marketing?')"
   ]
  },
  {
   "cell_type": "code",
   "execution_count": null,
   "metadata": {},
   "outputs": [],
   "source": []
  }
 ],
 "metadata": {
  "kernelspec": {
   "display_name": "Python 3",
   "language": "python",
   "name": "python3"
  },
  "language_info": {
   "codemirror_mode": {
    "name": "ipython",
    "version": 3
   },
   "file_extension": ".py",
   "mimetype": "text/x-python",
   "name": "python",
   "nbconvert_exporter": "python",
   "pygments_lexer": "ipython3",
   "version": "3.10.5"
  }
 },
 "nbformat": 4,
 "nbformat_minor": 2
}
